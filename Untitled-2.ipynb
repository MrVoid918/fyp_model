{
 "cells": [
  {
   "cell_type": "code",
   "execution_count": 1,
   "metadata": {},
   "outputs": [],
   "source": [
    "import cv2\n",
    "import torch\n",
    "import random\n",
    "import time\n",
    "import numpy as np\n",
    "import tensorrt as trt\n",
    "from PIL import Image\n",
    "from pathlib import Path\n",
    "from collections import OrderedDict,namedtuple"
   ]
  },
  {
   "cell_type": "code",
   "execution_count": 2,
   "metadata": {},
   "outputs": [],
   "source": [
    "w = 'weights/yolov7-tiny-nms.trt'\n",
    "device = torch.device('cuda:0')\n",
    "img = cv2.imread('inference/images/ballin.jpg')"
   ]
  },
  {
   "cell_type": "code",
   "execution_count": 3,
   "metadata": {},
   "outputs": [
    {
     "data": {
      "text/plain": [
       "True"
      ]
     },
     "execution_count": 3,
     "metadata": {},
     "output_type": "execute_result"
    }
   ],
   "source": [
    "# Infer TensorRT Engine\n",
    "Binding = namedtuple('Binding', ('name', 'dtype', 'shape', 'data', 'ptr'))\n",
    "logger = trt.Logger(trt.Logger.INFO)\n",
    "trt.init_libnvinfer_plugins(logger, \"\")"
   ]
  },
  {
   "cell_type": "code",
   "execution_count": 4,
   "metadata": {},
   "outputs": [],
   "source": [
    "with open(w, 'rb') as f, trt.Runtime(logger) as runtime:\n",
    "    model = runtime.deserialize_cuda_engine(f.read())"
   ]
  },
  {
   "cell_type": "code",
   "execution_count": 7,
   "metadata": {},
   "outputs": [
    {
     "data": {
      "text/plain": [
       "5"
      ]
     },
     "execution_count": 7,
     "metadata": {},
     "output_type": "execute_result"
    }
   ],
   "source": [
    "model.num_bindings"
   ]
  },
  {
   "cell_type": "code",
   "execution_count": 6,
   "metadata": {},
   "outputs": [
    {
     "ename": "TypeError",
     "evalue": "get_tensor_dtype(): incompatible function arguments. The following argument types are supported:\n    1. (self: tensorrt.tensorrt.ICudaEngine, name: str) -> tensorrt.tensorrt.DataType\n\nInvoked with: <tensorrt.tensorrt.ICudaEngine object at 0x000001B5DCDD8070>, 0",
     "output_type": "error",
     "traceback": [
      "\u001b[1;31m---------------------------------------------------------------------------\u001b[0m",
      "\u001b[1;31mTypeError\u001b[0m                                 Traceback (most recent call last)",
      "Cell \u001b[1;32mIn[6], line 4\u001b[0m\n\u001b[0;32m      2\u001b[0m \u001b[39mfor\u001b[39;00m index \u001b[39min\u001b[39;00m \u001b[39mrange\u001b[39m(model\u001b[39m.\u001b[39mnum_bindings):\n\u001b[0;32m      3\u001b[0m     name \u001b[39m=\u001b[39m model\u001b[39m.\u001b[39mget_tensor_name(index)\n\u001b[1;32m----> 4\u001b[0m     dtype \u001b[39m=\u001b[39m trt\u001b[39m.\u001b[39mnptype(model\u001b[39m.\u001b[39;49mget_tensor_dtype(index))\n\u001b[0;32m      5\u001b[0m     shape \u001b[39m=\u001b[39m \u001b[39mtuple\u001b[39m(model\u001b[39m.\u001b[39mget_tensor_name(index))\n\u001b[0;32m      6\u001b[0m     data \u001b[39m=\u001b[39m torch\u001b[39m.\u001b[39mfrom_numpy(np\u001b[39m.\u001b[39mempty(shape, dtype\u001b[39m=\u001b[39mnp\u001b[39m.\u001b[39mdtype(dtype)))\u001b[39m.\u001b[39mto(device)\n",
      "\u001b[1;31mTypeError\u001b[0m: get_tensor_dtype(): incompatible function arguments. The following argument types are supported:\n    1. (self: tensorrt.tensorrt.ICudaEngine, name: str) -> tensorrt.tensorrt.DataType\n\nInvoked with: <tensorrt.tensorrt.ICudaEngine object at 0x000001B5DCDD8070>, 0"
     ]
    }
   ],
   "source": [
    "bindings = OrderedDict()\n",
    "for index in range(model.num_bindings):\n",
    "    name = model.get_tensor_name(index)\n",
    "    dtype = trt.nptype(model.get_tensor_dtype(index))\n",
    "    shape = tuple(model.get_tensor_name(index))\n",
    "    data = torch.from_numpy(np.empty(shape, dtype=np.dtype(dtype))).to(device)\n",
    "    bindings[name] = Binding(name, dtype, shape, data, int(data.data_ptr()))\n",
    "binding_addrs = OrderedDict((n, d.ptr) for n, d in bindings.items())\n",
    "context = model.create_execution_context()"
   ]
  }
 ],
 "metadata": {
  "kernelspec": {
   "display_name": "final_year_project",
   "language": "python",
   "name": "python3"
  },
  "language_info": {
   "codemirror_mode": {
    "name": "ipython",
    "version": 3
   },
   "file_extension": ".py",
   "mimetype": "text/x-python",
   "name": "python",
   "nbconvert_exporter": "python",
   "pygments_lexer": "ipython3",
   "version": "3.10.2"
  },
  "orig_nbformat": 4
 },
 "nbformat": 4,
 "nbformat_minor": 2
}
